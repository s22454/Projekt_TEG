{
 "cells": [
  {
   "metadata": {},
   "cell_type": "markdown",
   "source": "# Kowal LLM (JSON edition)",
   "id": "fe8c7bf02ae77f7a"
  },
  {
   "metadata": {},
   "cell_type": "markdown",
   "source": "### Loading JSON",
   "id": "b62059887c008a4c"
  },
  {
   "metadata": {
    "ExecuteTime": {
     "end_time": "2025-05-26T14:33:03.709967Z",
     "start_time": "2025-05-26T14:33:03.150840Z"
    }
   },
   "cell_type": "code",
   "source": [
    "import json\n",
    "\n",
    "json_path = 'Data/kowal.json'\n",
    "with open(json_path, 'r', encoding='utf-8') as f:\n",
    "    npc_data = json.load(f)\n",
    "\n",
    "# Tworzymy tekst z zawartości JSON jako dokument źródłowy\n",
    "from langchain.docstore.document import Document\n",
    "\n",
    "def flatten_npc_to_text(data):\n",
    "    result = []\n",
    "    result.append(f\"{data['imie']} - {data['rola']}\")\n",
    "    result.append(data[\"opis\"])\n",
    "    result.append(f\"Nastawienie do gracza: {data.get('nastawienie_do_gracza', 'neutralne')}\")\n",
    "    result.append(\"Przedmioty w ofercie:\")\n",
    "    for item in data[\"przedmioty\"]:\n",
    "        result.append(f\"- {item['nazwa']} ({item['cena']})\")\n",
    "    result.append(\"Relacje:\")\n",
    "    result.append(f\"  Lubi: {', '.join(data['relacje'].get('lubi', []))}\")\n",
    "    result.append(f\"  Nie lubi: {', '.join(data['relacje'].get('nie_lubi', []))}\")\n",
    "    result.append(\"Plotki:\")\n",
    "    for p in data[\"plotki\"]:\n",
    "        result.append(f\"- {p}\")\n",
    "    result.append(f\"Waluta: {data['waluta']}\")\n",
    "    return \"\\n\".join(result)\n",
    "\n",
    "text = flatten_npc_to_text(npc_data)\n",
    "documents = [Document(page_content=text)]\n",
    "\n",
    "print(\"Loaded JSON and created document.\")\n"
   ],
   "id": "dd547b67b4a34ff5",
   "outputs": [
    {
     "name": "stdout",
     "output_type": "stream",
     "text": [
      "Loaded JSON and created document.\n"
     ]
    }
   ],
   "execution_count": 1
  },
  {
   "metadata": {},
   "cell_type": "markdown",
   "source": "### Splitting into chunks",
   "id": "ed3003c85dfb482e"
  },
  {
   "metadata": {
    "ExecuteTime": {
     "end_time": "2025-05-26T14:33:07.510791Z",
     "start_time": "2025-05-26T14:33:06.648797Z"
    }
   },
   "cell_type": "code",
   "source": [
    "from langchain.text_splitter import RecursiveCharacterTextSplitter\n",
    "\n",
    "text_splitter = RecursiveCharacterTextSplitter(\n",
    "    chunk_size=300,\n",
    "    chunk_overlap=20,\n",
    "    length_function=len,\n",
    "    separators=[\"\\n\\n\", \"\\n\", \" \", \"\"]\n",
    ")\n",
    "\n",
    "chunks = text_splitter.split_documents(documents)\n",
    "print(f\"Split JSON into {len(chunks)} chunks\")\n"
   ],
   "id": "7566efe59cc4fb6f",
   "outputs": [
    {
     "name": "stdout",
     "output_type": "stream",
     "text": [
      "Split JSON into 2 chunks\n"
     ]
    }
   ],
   "execution_count": 2
  },
  {
   "metadata": {},
   "cell_type": "markdown",
   "source": "### Embeddings",
   "id": "8d9ee40f9954a85"
  },
  {
   "metadata": {
    "ExecuteTime": {
     "end_time": "2025-05-26T14:33:49.322041Z",
     "start_time": "2025-05-26T14:33:11.196483Z"
    }
   },
   "cell_type": "code",
   "source": [
    "from langchain_huggingface import HuggingFaceEmbeddings\n",
    "\n",
    "embedding_model = HuggingFaceEmbeddings(model_name=\"sentence-transformers/all-MiniLM-L6-v2\")\n",
    "print(\"Using embedding model: sentence-transformers/all-MiniLM-L6-v2\")\n"
   ],
   "id": "f9c34e9b6e72046",
   "outputs": [
    {
     "name": "stdout",
     "output_type": "stream",
     "text": [
      "Using embedding model: sentence-transformers/all-MiniLM-L6-v2\n"
     ]
    }
   ],
   "execution_count": 3
  },
  {
   "metadata": {},
   "cell_type": "markdown",
   "source": "### Vector store",
   "id": "ecc1acfb998811d3"
  },
  {
   "metadata": {
    "ExecuteTime": {
     "end_time": "2025-05-26T14:33:54.663236Z",
     "start_time": "2025-05-26T14:33:53.578692Z"
    }
   },
   "cell_type": "code",
   "source": [
    "from langchain_community.vectorstores import FAISS\n",
    "\n",
    "vectorstore = FAISS.from_documents(chunks, embedding_model)\n",
    "print(\"Vectorstore created.\")\n"
   ],
   "id": "b616a59efc98141e",
   "outputs": [
    {
     "name": "stdout",
     "output_type": "stream",
     "text": [
      "Vectorstore created.\n"
     ]
    }
   ],
   "execution_count": 4
  },
  {
   "metadata": {},
   "cell_type": "markdown",
   "source": "### RAG pipeline",
   "id": "fa261ca40dd5ce57"
  },
  {
   "metadata": {
    "ExecuteTime": {
     "end_time": "2025-05-26T14:34:16.255056Z",
     "start_time": "2025-05-26T14:34:11.297764Z"
    }
   },
   "cell_type": "code",
   "source": [
    "from langchain_openai import ChatOpenAI\n",
    "from langchain.chains import RetrievalQA\n",
    "from dotenv import load_dotenv\n",
    "import os\n",
    "\n",
    "load_dotenv()\n",
    "\n",
    "llm = ChatOpenAI(\n",
    "    model_name=\"gpt-4o-mini\",\n",
    "    openai_api_key=os.environ['OPENAI_API_KEY'],\n",
    ")\n",
    "\n",
    "retriever = vectorstore.as_retriever(search_kwargs={\"k\": 3})\n",
    "\n",
    "qa_chain = RetrievalQA.from_chain_type(\n",
    "    llm=llm,\n",
    "    retriever=retriever,\n",
    "    return_source_documents=True\n",
    ")\n"
   ],
   "id": "82b83f9922ed7ef9",
   "outputs": [],
   "execution_count": 5
  },
  {
   "metadata": {},
   "cell_type": "markdown",
   "source": "### say() function",
   "id": "fbf5bf42c86a2bdd"
  },
  {
   "metadata": {
    "ExecuteTime": {
     "end_time": "2025-05-26T14:34:20.558558Z",
     "start_time": "2025-05-26T14:34:20.542355Z"
    }
   },
   "cell_type": "code",
   "source": [
    "def say(text):\n",
    "    result = qa_chain.invoke(text)\n",
    "\n",
    "    print(\"Odpowiedź:\")\n",
    "    print(result[\"result\"])\n",
    "    print(\"\\nFragmenty źródłowe:\")\n",
    "    for doc in result[\"source_documents\"]:\n",
    "        print(\"-\", doc.page_content[:100])\n"
   ],
   "id": "55d2808f154bc287",
   "outputs": [],
   "execution_count": 6
  },
  {
   "metadata": {},
   "cell_type": "markdown",
   "source": "### Testing",
   "id": "a410e07abacb7436"
  },
  {
   "metadata": {
    "ExecuteTime": {
     "end_time": "2025-05-26T14:34:43.369541Z",
     "start_time": "2025-05-26T14:34:29.825299Z"
    }
   },
   "cell_type": "code",
   "source": [
    "say(\"masz jakies przedmioty masz w swojej ofercie?\")\n",
    "say(\"wiesz cos o magii?\")\n",
    "say(\"słyszałem o tobie jakies plotki, opowiedz mi o nich\")\n",
    "say(\"Lubisz czarodziejów?\")\n",
    "say(\"za jaką walutę sprzedajesz swoje produkty?\")\n",
    "say(\"zadasz mi jakies pytanie?\")\n",
    "say(\"nie jestes zbytnio rozmowny\")\n",
    "say(\"szukam nowego toporu, masz coś do zaproponowania?\")\n",
    "say(\"są rasy których nie lubisz?\")\n"
   ],
   "id": "800839780aae6020",
   "outputs": [
    {
     "name": "stdout",
     "output_type": "stream",
     "text": [
      "Odpowiedź:\n",
      "W mojej ofercie mam następujące przedmioty:\n",
      "\n",
      "- Topór bitewny - 25 sztuk złota\n",
      "- Młot kowalski - 10 sztuk srebra\n",
      "\n",
      "Jeśli jesteś zainteresowany, mogę pomóc w zakupie!\n",
      "\n",
      "Fragmenty źródłowe:\n",
      "- - Pancerz skórzany (30 sztuk złota)\n",
      "Relacje:\n",
      "  Lubi: żołnierzy, łowców\n",
      "  Nie lubi: czarodziejów, kup\n",
      "- Borin - Kowal\n",
      "Stary kowal z wioski Dębowy Gród, znany z wyrobu broni i narzędzi najwyższej jakości.\n",
      "\n",
      "Odpowiedź:\n",
      "Nie wiem.\n",
      "\n",
      "Fragmenty źródłowe:\n",
      "- - Pancerz skórzany (30 sztuk złota)\n",
      "Relacje:\n",
      "  Lubi: żołnierzy, łowców\n",
      "  Nie lubi: czarodziejów, kup\n",
      "- Borin - Kowal\n",
      "Stary kowal z wioski Dębowy Gród, znany z wyrobu broni i narzędzi najwyższej jakości.\n",
      "\n",
      "Odpowiedź:\n",
      "Słyszałeś, że kiedyś walczyłem w wielkiej wojnie krasnoludów. To był czas, kiedy stawialiśmy czoła końcu naszej niezależności. Dodatkowo, posiadam wiedzę na temat sekretnej techniki kucia zaklętych ostrzy, co przydaje się w moim rzemiośle. Co chciałbyś wiedzieć więcej?\n",
      "\n",
      "Fragmenty źródłowe:\n",
      "- - Pancerz skórzany (30 sztuk złota)\n",
      "Relacje:\n",
      "  Lubi: żołnierzy, łowców\n",
      "  Nie lubi: czarodziejów, kup\n",
      "- Borin - Kowal\n",
      "Stary kowal z wioski Dębowy Gród, znany z wyrobu broni i narzędzi najwyższej jakości.\n",
      "\n",
      "Odpowiedź:\n",
      "Nie, nie lubię czarodziejów.\n",
      "\n",
      "Fragmenty źródłowe:\n",
      "- - Pancerz skórzany (30 sztuk złota)\n",
      "Relacje:\n",
      "  Lubi: żołnierzy, łowców\n",
      "  Nie lubi: czarodziejów, kup\n",
      "- Borin - Kowal\n",
      "Stary kowal z wioski Dębowy Gród, znany z wyrobu broni i narzędzi najwyższej jakości.\n",
      "\n",
      "Odpowiedź:\n",
      "Sprzedaję swoje produkty za złoto i srebro.\n",
      "\n",
      "Fragmenty źródłowe:\n",
      "- - Pancerz skórzany (30 sztuk złota)\n",
      "Relacje:\n",
      "  Lubi: żołnierzy, łowców\n",
      "  Nie lubi: czarodziejów, kup\n",
      "- Borin - Kowal\n",
      "Stary kowal z wioski Dębowy Gród, znany z wyrobu broni i narzędzi najwyższej jakości.\n",
      "\n",
      "Odpowiedź:\n",
      "Nie wiem, jakie pytanie mógłbym zadać. Czy masz coś konkretnego na myśli?\n",
      "\n",
      "Fragmenty źródłowe:\n",
      "- - Pancerz skórzany (30 sztuk złota)\n",
      "Relacje:\n",
      "  Lubi: żołnierzy, łowców\n",
      "  Nie lubi: czarodziejów, kup\n",
      "- Borin - Kowal\n",
      "Stary kowal z wioski Dębowy Gród, znany z wyrobu broni i narzędzi najwyższej jakości.\n",
      "\n",
      "Odpowiedź:\n",
      "Nie wiem.\n",
      "\n",
      "Fragmenty źródłowe:\n",
      "- - Pancerz skórzany (30 sztuk złota)\n",
      "Relacje:\n",
      "  Lubi: żołnierzy, łowców\n",
      "  Nie lubi: czarodziejów, kup\n",
      "- Borin - Kowal\n",
      "Stary kowal z wioski Dębowy Gród, znany z wyrobu broni i narzędzi najwyższej jakości.\n",
      "\n",
      "Odpowiedź:\n",
      "Tak, mam w ofercie topór bitewny, który kosztuje 25 sztuk złota. To wysokiej jakości broń, idealna dla wojowników. Chcesz go kupić?\n",
      "\n",
      "Fragmenty źródłowe:\n",
      "- - Pancerz skórzany (30 sztuk złota)\n",
      "Relacje:\n",
      "  Lubi: żołnierzy, łowców\n",
      "  Nie lubi: czarodziejów, kup\n",
      "- Borin - Kowal\n",
      "Stary kowal z wioski Dębowy Gród, znany z wyrobu broni i narzędzi najwyższej jakości.\n",
      "\n",
      "Odpowiedź:\n",
      "Borin, kowal z Dębowego Grodu, nie lubi czarodziejów i kupców. Lubią za to żołnierzy i łowców.\n",
      "\n",
      "Fragmenty źródłowe:\n",
      "- - Pancerz skórzany (30 sztuk złota)\n",
      "Relacje:\n",
      "  Lubi: żołnierzy, łowców\n",
      "  Nie lubi: czarodziejów, kup\n",
      "- Borin - Kowal\n",
      "Stary kowal z wioski Dębowy Gród, znany z wyrobu broni i narzędzi najwyższej jakości.\n",
      "\n"
     ]
    }
   ],
   "execution_count": 7
  },
  {
   "metadata": {},
   "cell_type": "code",
   "outputs": [],
   "execution_count": null,
   "source": "",
   "id": "1ce67b27b6e8d5c6"
  }
 ],
 "metadata": {
  "kernelspec": {
   "display_name": "Python 3",
   "language": "python",
   "name": "python3"
  },
  "language_info": {
   "codemirror_mode": {
    "name": "ipython",
    "version": 2
   },
   "file_extension": ".py",
   "mimetype": "text/x-python",
   "name": "python",
   "nbconvert_exporter": "python",
   "pygments_lexer": "ipython2",
   "version": "2.7.6"
  }
 },
 "nbformat": 4,
 "nbformat_minor": 5
}
